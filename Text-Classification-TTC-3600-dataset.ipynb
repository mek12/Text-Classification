{
 "cells": [
  {
   "cell_type": "markdown",
   "metadata": {},
   "source": [
    "## IMPORT "
   ]
  },
  {
   "cell_type": "code",
   "execution_count": 136,
   "metadata": {},
   "outputs": [],
   "source": [
    "import re\n",
    "import nltk\n",
    "import pandas as pd\n",
    "import numpy as np\n",
    "from unicode_tr import unicode_tr\n",
    "from pathlib import Path\n",
    "from sklearn.model_selection import train_test_split\n",
    "from sklearn.feature_extraction.text import CountVectorizer\n",
    "from sklearn.feature_extraction.text import TfidfVectorizer"
   ]
  },
  {
   "cell_type": "markdown",
   "metadata": {},
   "source": [
    "## READ DATA\n"
   ]
  },
  {
   "cell_type": "code",
   "execution_count": 54,
   "metadata": {},
   "outputs": [],
   "source": [
    "path = Path(\"/home/emir/MyProjects/DataI_Project/data/TTC-3600_Orj\").iterdir()\n",
    "# spor_data = Path(\"/home/emir/MyProjects/DataI_Project/data/TTC-3600_Orj/spor\").iterdir()\n",
    "# ekonomi_data = Path(\"/home/emir/MyProjects/DataI_Project/data/TTC-3600_Orj/ekonomi\").iterdir()\n",
    "# teknoloji_data = Path(\"/home/emir/MyProjects/DataI_Project/data/TTC-3600_Orj/teknoloji\").iterdir()\n",
    "# saglik_data = Path(\"/home/emir/MyProjects/DataI_Project/data/TTC-3600_Orj/saglik\").iterdir()\n",
    "# siyaset_data = Path(\"/home/emir/MyProjects/DataI_Project/data/TTC-3600_Orj/siyaset\").iterdir()\n"
   ]
  },
  {
   "cell_type": "code",
   "execution_count": 55,
   "metadata": {
    "scrolled": true
   },
   "outputs": [
    {
     "name": "stdout",
     "output_type": "stream",
     "text": [
      "[PosixPath('/home/emir/MyProjects/DataI_Project/data/TTC-3600_Orj/spor'), PosixPath('/home/emir/MyProjects/DataI_Project/data/TTC-3600_Orj/teknoloji'), PosixPath('/home/emir/MyProjects/DataI_Project/data/TTC-3600_Orj/ekonomi'), PosixPath('/home/emir/MyProjects/DataI_Project/data/TTC-3600_Orj/saglik'), PosixPath('/home/emir/MyProjects/DataI_Project/data/TTC-3600_Orj/kultursanat'), PosixPath('/home/emir/MyProjects/DataI_Project/data/TTC-3600_Orj/siyaset')]\n"
     ]
    }
   ],
   "source": [
    "print(list(Path(\"/home/emir/MyProjects/DataI_Project/data/TTC-3600_Orj\").iterdir()))"
   ]
  },
  {
   "cell_type": "code",
   "execution_count": 59,
   "metadata": {},
   "outputs": [],
   "source": [
    "data_list = []\n",
    "data_df = pd.DataFrame()\n",
    "for i in path:\n",
    "    for j in i.iterdir():\n",
    "        data = j.read_text()\n",
    "        data_list.append((str(i).split(\"/\")[-1],data))"
   ]
  },
  {
   "cell_type": "code",
   "execution_count": 60,
   "metadata": {},
   "outputs": [],
   "source": [
    "data_df = pd.DataFrame(data_list, columns=[\"label\",\"text\"])"
   ]
  },
  {
   "cell_type": "code",
   "execution_count": 61,
   "metadata": {},
   "outputs": [
    {
     "data": {
      "text/html": [
       "<div>\n",
       "<style scoped>\n",
       "    .dataframe tbody tr th:only-of-type {\n",
       "        vertical-align: middle;\n",
       "    }\n",
       "\n",
       "    .dataframe tbody tr th {\n",
       "        vertical-align: top;\n",
       "    }\n",
       "\n",
       "    .dataframe thead th {\n",
       "        text-align: right;\n",
       "    }\n",
       "</style>\n",
       "<table border=\"1\" class=\"dataframe\">\n",
       "  <thead>\n",
       "    <tr style=\"text-align: right;\">\n",
       "      <th></th>\n",
       "      <th>label</th>\n",
       "      <th>text</th>\n",
       "    </tr>\n",
       "  </thead>\n",
       "  <tbody>\n",
       "    <tr>\n",
       "      <th>0</th>\n",
       "      <td>spor</td>\n",
       "      <td>Mehmet Topal'ın eşinden örnek davranış\\nFenerb...</td>\n",
       "    </tr>\n",
       "    <tr>\n",
       "      <th>1</th>\n",
       "      <td>spor</td>\n",
       "      <td>﻿\\n\\tSezonun tamamlanmasının ardından Aytaç Öd...</td>\n",
       "    </tr>\n",
       "    <tr>\n",
       "      <th>2</th>\n",
       "      <td>spor</td>\n",
       "      <td>﻿Geride bıraktığımız \\n                sezon \\...</td>\n",
       "    </tr>\n",
       "    <tr>\n",
       "      <th>3</th>\n",
       "      <td>spor</td>\n",
       "      <td>﻿TRABZON - İbrahim Hacıosmanoğlu, Trabzonspor ...</td>\n",
       "    </tr>\n",
       "    <tr>\n",
       "      <th>4</th>\n",
       "      <td>spor</td>\n",
       "      <td>Kunter: 'Beşiktaş'ın hedefi şampiyonluk'\\nBeşi...</td>\n",
       "    </tr>\n",
       "    <tr>\n",
       "      <th>...</th>\n",
       "      <td>...</td>\n",
       "      <td>...</td>\n",
       "    </tr>\n",
       "    <tr>\n",
       "      <th>3595</th>\n",
       "      <td>siyaset</td>\n",
       "      <td>11 milyon tablet geliyor\\n11 milyon tabletin i...</td>\n",
       "    </tr>\n",
       "    <tr>\n",
       "      <th>3596</th>\n",
       "      <td>siyaset</td>\n",
       "      <td>﻿\\n\\tAynı anda kayıt yaptıran Bakan Kılıç ile ...</td>\n",
       "    </tr>\n",
       "    <tr>\n",
       "      <th>3597</th>\n",
       "      <td>siyaset</td>\n",
       "      <td>﻿\\n\\n  \\n    \\n      \\n       \\n     \\n\\tHDP H...</td>\n",
       "    </tr>\n",
       "    <tr>\n",
       "      <th>3598</th>\n",
       "      <td>siyaset</td>\n",
       "      <td>AK Parti pankartına CHP tepkisi\\nAdalet ve Kal...</td>\n",
       "    </tr>\n",
       "    <tr>\n",
       "      <th>3599</th>\n",
       "      <td>siyaset</td>\n",
       "      <td>﻿\\n\\n  \\n    \\n      \\n       \\n     \\n\\t2014 ...</td>\n",
       "    </tr>\n",
       "  </tbody>\n",
       "</table>\n",
       "<p>3600 rows × 2 columns</p>\n",
       "</div>"
      ],
      "text/plain": [
       "        label                                               text\n",
       "0        spor  Mehmet Topal'ın eşinden örnek davranış\\nFenerb...\n",
       "1        spor  ﻿\\n\\tSezonun tamamlanmasının ardından Aytaç Öd...\n",
       "2        spor  ﻿Geride bıraktığımız \\n                sezon \\...\n",
       "3        spor  ﻿TRABZON - İbrahim Hacıosmanoğlu, Trabzonspor ...\n",
       "4        spor  Kunter: 'Beşiktaş'ın hedefi şampiyonluk'\\nBeşi...\n",
       "...       ...                                                ...\n",
       "3595  siyaset  11 milyon tablet geliyor\\n11 milyon tabletin i...\n",
       "3596  siyaset  ﻿\\n\\tAynı anda kayıt yaptıran Bakan Kılıç ile ...\n",
       "3597  siyaset  ﻿\\n\\n  \\n    \\n      \\n       \\n     \\n\\tHDP H...\n",
       "3598  siyaset  AK Parti pankartına CHP tepkisi\\nAdalet ve Kal...\n",
       "3599  siyaset  ﻿\\n\\n  \\n    \\n      \\n       \\n     \\n\\t2014 ...\n",
       "\n",
       "[3600 rows x 2 columns]"
      ]
     },
     "execution_count": 61,
     "metadata": {},
     "output_type": "execute_result"
    }
   ],
   "source": [
    "data_df"
   ]
  },
  {
   "cell_type": "code",
   "execution_count": 62,
   "metadata": {},
   "outputs": [
    {
     "data": {
      "text/plain": [
       "array(['spor', 'teknoloji', 'ekonomi', 'saglik', 'kultursanat', 'siyaset'],\n",
       "      dtype=object)"
      ]
     },
     "execution_count": 62,
     "metadata": {},
     "output_type": "execute_result"
    }
   ],
   "source": [
    "data_df[\"label\"].unique()"
   ]
  },
  {
   "cell_type": "code",
   "execution_count": 63,
   "metadata": {},
   "outputs": [],
   "source": [
    "mapping = {'spor':0, \n",
    "           'teknoloji':1, \n",
    "           'ekonomi':2, \n",
    "           'saglik':3, \n",
    "           'kultursanat':4, \n",
    "           'siyaset':5\n",
    "          }"
   ]
  },
  {
   "cell_type": "code",
   "execution_count": 64,
   "metadata": {
    "scrolled": true
   },
   "outputs": [
    {
     "data": {
      "text/html": [
       "<div>\n",
       "<style scoped>\n",
       "    .dataframe tbody tr th:only-of-type {\n",
       "        vertical-align: middle;\n",
       "    }\n",
       "\n",
       "    .dataframe tbody tr th {\n",
       "        vertical-align: top;\n",
       "    }\n",
       "\n",
       "    .dataframe thead th {\n",
       "        text-align: right;\n",
       "    }\n",
       "</style>\n",
       "<table border=\"1\" class=\"dataframe\">\n",
       "  <thead>\n",
       "    <tr style=\"text-align: right;\">\n",
       "      <th></th>\n",
       "      <th>label</th>\n",
       "      <th>text</th>\n",
       "    </tr>\n",
       "  </thead>\n",
       "  <tbody>\n",
       "    <tr>\n",
       "      <th>0</th>\n",
       "      <td>0</td>\n",
       "      <td>Mehmet Topal'ın eşinden örnek davranış\\nFenerb...</td>\n",
       "    </tr>\n",
       "    <tr>\n",
       "      <th>1</th>\n",
       "      <td>0</td>\n",
       "      <td>﻿\\n\\tSezonun tamamlanmasının ardından Aytaç Öd...</td>\n",
       "    </tr>\n",
       "    <tr>\n",
       "      <th>2</th>\n",
       "      <td>0</td>\n",
       "      <td>﻿Geride bıraktığımız \\n                sezon \\...</td>\n",
       "    </tr>\n",
       "    <tr>\n",
       "      <th>3</th>\n",
       "      <td>0</td>\n",
       "      <td>﻿TRABZON - İbrahim Hacıosmanoğlu, Trabzonspor ...</td>\n",
       "    </tr>\n",
       "    <tr>\n",
       "      <th>4</th>\n",
       "      <td>0</td>\n",
       "      <td>Kunter: 'Beşiktaş'ın hedefi şampiyonluk'\\nBeşi...</td>\n",
       "    </tr>\n",
       "    <tr>\n",
       "      <th>...</th>\n",
       "      <td>...</td>\n",
       "      <td>...</td>\n",
       "    </tr>\n",
       "    <tr>\n",
       "      <th>3595</th>\n",
       "      <td>5</td>\n",
       "      <td>11 milyon tablet geliyor\\n11 milyon tabletin i...</td>\n",
       "    </tr>\n",
       "    <tr>\n",
       "      <th>3596</th>\n",
       "      <td>5</td>\n",
       "      <td>﻿\\n\\tAynı anda kayıt yaptıran Bakan Kılıç ile ...</td>\n",
       "    </tr>\n",
       "    <tr>\n",
       "      <th>3597</th>\n",
       "      <td>5</td>\n",
       "      <td>﻿\\n\\n  \\n    \\n      \\n       \\n     \\n\\tHDP H...</td>\n",
       "    </tr>\n",
       "    <tr>\n",
       "      <th>3598</th>\n",
       "      <td>5</td>\n",
       "      <td>AK Parti pankartına CHP tepkisi\\nAdalet ve Kal...</td>\n",
       "    </tr>\n",
       "    <tr>\n",
       "      <th>3599</th>\n",
       "      <td>5</td>\n",
       "      <td>﻿\\n\\n  \\n    \\n      \\n       \\n     \\n\\t2014 ...</td>\n",
       "    </tr>\n",
       "  </tbody>\n",
       "</table>\n",
       "<p>3600 rows × 2 columns</p>\n",
       "</div>"
      ],
      "text/plain": [
       "      label                                               text\n",
       "0         0  Mehmet Topal'ın eşinden örnek davranış\\nFenerb...\n",
       "1         0  ﻿\\n\\tSezonun tamamlanmasının ardından Aytaç Öd...\n",
       "2         0  ﻿Geride bıraktığımız \\n                sezon \\...\n",
       "3         0  ﻿TRABZON - İbrahim Hacıosmanoğlu, Trabzonspor ...\n",
       "4         0  Kunter: 'Beşiktaş'ın hedefi şampiyonluk'\\nBeşi...\n",
       "...     ...                                                ...\n",
       "3595      5  11 milyon tablet geliyor\\n11 milyon tabletin i...\n",
       "3596      5  ﻿\\n\\tAynı anda kayıt yaptıran Bakan Kılıç ile ...\n",
       "3597      5  ﻿\\n\\n  \\n    \\n      \\n       \\n     \\n\\tHDP H...\n",
       "3598      5  AK Parti pankartına CHP tepkisi\\nAdalet ve Kal...\n",
       "3599      5  ﻿\\n\\n  \\n    \\n      \\n       \\n     \\n\\t2014 ...\n",
       "\n",
       "[3600 rows x 2 columns]"
      ]
     },
     "execution_count": 64,
     "metadata": {},
     "output_type": "execute_result"
    }
   ],
   "source": [
    "data_df['label'] = data_df['label'].map(mapping)\n",
    "data_df"
   ]
  },
  {
   "cell_type": "markdown",
   "metadata": {},
   "source": [
    "## PREPROCESSING"
   ]
  },
  {
   "cell_type": "code",
   "execution_count": 65,
   "metadata": {},
   "outputs": [],
   "source": [
    "text_list = []\n",
    "for text in data_df.text:\n",
    "    text = unicode_tr(text).lower()\n",
    "    text = re.sub(r\"[^a-zğüı'şöç]\", \" \", text)\n",
    "    text_list.append(text)"
   ]
  },
  {
   "cell_type": "code",
   "execution_count": 85,
   "metadata": {},
   "outputs": [],
   "source": [
    "max_features = 15000\n",
    "count_vectorizer = CountVectorizer(max_features = max_features)\n",
    "count_vectorizer.fit(text_list)\n",
    "sparce_matrix = count_vectorizer.transform(text_list)"
   ]
  },
  {
   "cell_type": "code",
   "execution_count": 86,
   "metadata": {},
   "outputs": [],
   "source": [
    "y= data_df.iloc[:,0].values\n",
    "x= sparce_matrix.toarray()"
   ]
  },
  {
   "cell_type": "markdown",
   "metadata": {},
   "source": [
    "## TRAIN TEST SPLIT"
   ]
  },
  {
   "cell_type": "code",
   "execution_count": 87,
   "metadata": {},
   "outputs": [],
   "source": [
    "X_train,X_test, Y_train, Y_test = train_test_split(x, y, test_size=0.20, random_state = 42)"
   ]
  },
  {
   "cell_type": "markdown",
   "metadata": {},
   "source": [
    "## CREATE MODEL and TRAINING"
   ]
  },
  {
   "cell_type": "code",
   "execution_count": 88,
   "metadata": {},
   "outputs": [
    {
     "data": {
      "text/plain": [
       "MultinomialNB(alpha=1.0, class_prior=None, fit_prior=True)"
      ]
     },
     "execution_count": 88,
     "metadata": {},
     "output_type": "execute_result"
    }
   ],
   "source": [
    "from sklearn.naive_bayes import MultinomialNB\n",
    "nb = MultinomialNB()\n",
    "nb.fit(X_train, Y_train)"
   ]
  },
  {
   "cell_type": "markdown",
   "metadata": {},
   "source": [
    "## PREDICT"
   ]
  },
  {
   "cell_type": "code",
   "execution_count": 89,
   "metadata": {
    "scrolled": true
   },
   "outputs": [
    {
     "name": "stdout",
     "output_type": "stream",
     "text": [
      "accurancy:  0.9333333333333333\n"
     ]
    }
   ],
   "source": [
    "# y_pred = nb.predict(X_test)\n",
    "print(\"accurancy: \", nb.score(X_test,Y_test))"
   ]
  },
  {
   "cell_type": "markdown",
   "metadata": {},
   "source": [
    "## test new sentences\n"
   ]
  },
  {
   "cell_type": "code",
   "execution_count": 126,
   "metadata": {},
   "outputs": [],
   "source": [
    "text1 = [\"Antalya'nın Muratpaşa ilçesinde yaşayan emekli Ahmet Turan Gürel de sunulan kredi avantajından haberdar olduktan sonra gerekli başvuruyu yaptığını dile getirdi.Reklamda 3 bin ile 10 bin lira arasında ihtiyaç kredisi verildiğini görünce mutlu olduğunu aktaran Gürel, şöyle konuştu\",\n",
    "        'Dünyaca ünlü piyanist Fazıl Say, 23 Nisanda Türkiye Büyük Millet Meclisinin (TBMM) kuruluşunun 100. yılı dolayısıyla yaptığı yeni besteyi sosyal medya hesaplarında paylaştı Say, Şükran Türküsü adını verdiği bestesini \"23 Nisan Ulusal Egemenlik ve Çocuk Bayramı kutlu olsun\" notuyla paylaştı.',\n",
    "        'Menajer Ömer Uzun, Mohamed Elnenyin Beşiktaş ta kalıp kalmayacağıyla ilgili, \"Gerek Arsenal tarafında gerek Beşiktaş tarafında salgın sonrasında birtakım şeyler beklemede. Şu ana kadar resmi bir görüşme yapamadık ancak şunu biliyorum ki gerek teknik heyet gerek Beşiktaş, Elnenyi bir sezon daha takımda tutmak istiyor. İşler biraz daha netleştikten sonra da Arsenal ile de oyuncunun gelecek sezon planlamasıyla ilgili birtakım görüşmeler yapılacaktır\" dedi',\n",
    "        \"Yeni tip corona virüs salgını nedeniyle yaşanan ölümlerin sayısı 185 bini aşarken, bilim insanları ve ilaç firmaları küresel salgını durdurmak için birbiriyle yarışıyor. Dünya Sağlık Örgütü (DSÖ), dünya genelinde 83 yeni tip corona virüs (Covid-19), aşısının geliştirildiğini ve bunların altısının insan denemeleri aşamasında olduğunu belirtti.\"]"
   ]
  },
  {
   "cell_type": "code",
   "execution_count": 127,
   "metadata": {},
   "outputs": [],
   "source": [
    "text1 = [unicode_tr(i).lower() for i in text1]"
   ]
  },
  {
   "cell_type": "code",
   "execution_count": 128,
   "metadata": {},
   "outputs": [
    {
     "data": {
      "text/plain": [
       "[\"antalya'nın muratpaşa ilçesinde yaşayan emekli ahmet turan gürel de sunulan kredi avantajından haberdar olduktan sonra gerekli başvuruyu yaptığını dile getirdi.reklamda 3 bin ile 10 bin lira arasında ihtiyaç kredisi verildiğini görünce mutlu olduğunu aktaran gürel, şöyle konuştu\",\n",
       " 'dünyaca ünlü piyanist fazıl say, 23 nisanda türkiye büyük millet meclisinin (tbmm) kuruluşunun 100. yılı dolayısıyla yaptığı yeni besteyi sosyal medya hesaplarında paylaştı say, şükran türküsü adını verdiği bestesini \"23 nisan ulusal egemenlik ve çocuk bayramı kutlu olsun\" notuyla paylaştı.',\n",
       " 'menajer ömer uzun, mohamed elnenyin beşiktaş ta kalıp kalmayacağıyla ilgili, \"gerek arsenal tarafında gerek beşiktaş tarafında salgın sonrasında birtakım şeyler beklemede. şu ana kadar resmi bir görüşme yapamadık ancak şunu biliyorum ki gerek teknik heyet gerek beşiktaş, elnenyi bir sezon daha takımda tutmak istiyor. işler biraz daha netleştikten sonra da arsenal ile de oyuncunun gelecek sezon planlamasıyla ilgili birtakım görüşmeler yapılacaktır\" dedi',\n",
       " 'yeni tip corona virüs salgını nedeniyle yaşanan ölümlerin sayısı 185 bini aşarken, bilim insanları ve ilaç firmaları küresel salgını durdurmak için birbiriyle yarışıyor. dünya sağlık örgütü (dsö), dünya genelinde 83 yeni tip corona virüs (covid-19), aşısının geliştirildiğini ve bunların altısının insan denemeleri aşamasında olduğunu belirtti.']"
      ]
     },
     "execution_count": 128,
     "metadata": {},
     "output_type": "execute_result"
    }
   ],
   "source": [
    "text1"
   ]
  },
  {
   "cell_type": "code",
   "execution_count": 129,
   "metadata": {},
   "outputs": [
    {
     "data": {
      "text/plain": [
       "[\"antalya'nın muratpaşa ilçesinde yaşayan emekli ahmet turan gürel de sunulan kredi avantajından haberdar olduktan sonra gerekli başvuruyu yaptığını dile getirdi reklamda   bin ile    bin lira arasında ihtiyaç kredisi verildiğini görünce mutlu olduğunu aktaran gürel  şöyle konuştu\",\n",
       " 'dünyaca ünlü piyanist fazıl say     nisanda türkiye büyük millet meclisinin  tbmm  kuruluşunun      yılı dolayısıyla yaptığı yeni besteyi sosyal medya hesaplarında paylaştı say  şükran türküsü adını verdiği bestesini     nisan ulusal egemenlik ve çocuk bayramı kutlu olsun  notuyla paylaştı ',\n",
       " 'menajer ömer uzun  mohamed elnenyin beşiktaş ta kalıp kalmayacağıyla ilgili   gerek arsenal tarafında gerek beşiktaş tarafında salgın sonrasında birtakım şeyler beklemede  şu ana kadar resmi bir görüşme yapamadık ancak şunu biliyorum ki gerek teknik heyet gerek beşiktaş  elnenyi bir sezon daha takımda tutmak istiyor  işler biraz daha netleştikten sonra da arsenal ile de oyuncunun gelecek sezon planlamasıyla ilgili birtakım görüşmeler yapılacaktır  dedi',\n",
       " 'yeni tip corona virüs salgını nedeniyle yaşanan ölümlerin sayısı     bini aşarken  bilim insanları ve ilaç firmaları küresel salgını durdurmak için birbiriyle yarışıyor  dünya sağlık örgütü  dsö   dünya genelinde    yeni tip corona virüs  covid      aşısının geliştirildiğini ve bunların altısının insan denemeleri aşamasında olduğunu belirtti ']"
      ]
     },
     "execution_count": 129,
     "metadata": {},
     "output_type": "execute_result"
    }
   ],
   "source": [
    "text1 = [re.sub(r\"[^a-zğüı'şöç]\", \" \", i) for i in text1]\n",
    "text1"
   ]
  },
  {
   "cell_type": "code",
   "execution_count": 130,
   "metadata": {},
   "outputs": [],
   "source": [
    "text1=count_vectorizer.transform(text1)\n",
    "text1=text1.toarray()"
   ]
  },
  {
   "cell_type": "code",
   "execution_count": 131,
   "metadata": {},
   "outputs": [
    {
     "data": {
      "text/plain": [
       "(4, 15000)"
      ]
     },
     "execution_count": 131,
     "metadata": {},
     "output_type": "execute_result"
    }
   ],
   "source": [
    "text1.shape"
   ]
  },
  {
   "cell_type": "code",
   "execution_count": 132,
   "metadata": {},
   "outputs": [
    {
     "data": {
      "text/plain": [
       "(720, 15000)"
      ]
     },
     "execution_count": 132,
     "metadata": {},
     "output_type": "execute_result"
    }
   ],
   "source": [
    "X_test.shape"
   ]
  },
  {
   "cell_type": "code",
   "execution_count": 133,
   "metadata": {},
   "outputs": [],
   "source": [
    "predictions = nb.predict(text1)"
   ]
  },
  {
   "cell_type": "code",
   "execution_count": 134,
   "metadata": {},
   "outputs": [],
   "source": [
    "mapping_list = list(mapping.keys())"
   ]
  },
  {
   "cell_type": "code",
   "execution_count": 135,
   "metadata": {},
   "outputs": [
    {
     "name": "stdout",
     "output_type": "stream",
     "text": [
      "ekonomi\n",
      "kultursanat\n",
      "spor\n",
      "saglik\n"
     ]
    }
   ],
   "source": [
    "for j in predictions:\n",
    "    pred = mapping_list[j]\n",
    "    print(pred)"
   ]
  }
 ],
 "metadata": {
  "kernelspec": {
   "display_name": "Python 3",
   "language": "python",
   "name": "python3"
  },
  "language_info": {
   "codemirror_mode": {
    "name": "ipython",
    "version": 3
   },
   "file_extension": ".py",
   "mimetype": "text/x-python",
   "name": "python",
   "nbconvert_exporter": "python",
   "pygments_lexer": "ipython3",
   "version": "3.6.9"
  }
 },
 "nbformat": 4,
 "nbformat_minor": 4
}
